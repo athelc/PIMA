{
 "cells": [
  {
   "cell_type": "code",
   "execution_count": 10,
   "id": "2bcfd824",
   "metadata": {},
   "outputs": [
    {
     "name": "stdout",
     "output_type": "stream",
     "text": [
      "Directory 'GFG' already exists.\n"
     ]
    }
   ],
   "source": [
    "import os\n",
    "import shutil\n",
    "# Specify the directory name\n",
    "directory_name = \"GFG\"\n",
    "\n",
    "# Create the directory\n",
    "try:\n",
    "    os.mkdir(directory_name)\n",
    "    print(f\"Directory '{directory_name}' created successfully.\")\n",
    "except FileExistsError:\n",
    "    print(f\"Directory '{directory_name}' already exists.\")\n",
    "except PermissionError:\n",
    "    print(f\"Permission denied: Unable to create '{directory_name}'.\")\n",
    "except Exception as e:\n",
    "    print(f\"An error occurred: {e}\")"
   ]
  },
  {
   "cell_type": "code",
   "execution_count": 9,
   "id": "6ad973a9",
   "metadata": {},
   "outputs": [
    {
     "name": "stdout",
     "output_type": "stream",
     "text": [
      "Content of 'td3_TRAS.pdf'\n",
      "\n",
      "we want it\n",
      "\n"
     ]
    }
   ],
   "source": [
    "directory = 'anum'\n",
    "for name in os.listdir(directory):\n",
    "    with open(os.path.join(directory, name)) as f:\n",
    "        if '_TRAS' in name :\n",
    "            print(f\"Content of '{name}'\")\n",
    "        else :\n",
    "            \n",
    "            print(\"we want it\")\n",
    "\n",
    "    print()"
   ]
  },
  {
   "cell_type": "code",
   "execution_count": 12,
   "id": "9ae2968c",
   "metadata": {},
   "outputs": [
    {
     "name": "stdout",
     "output_type": "stream",
     "text": [
      "Content of 'td3_TRAS.pdf'\n",
      "we want it\n"
     ]
    }
   ],
   "source": [
    "source_directory = 'anum'\n",
    "destination_directory = \"GFG\"\n",
    "\n",
    "# Ensure destination directory exists\n",
    "os.makedirs(destination_directory, exist_ok=True)\n",
    "\n",
    "for name in os.listdir(source_directory):\n",
    "    file_path = os.path.join(source_directory, name)\n",
    "\n",
    "    # Check if it's a file and contains '_TRAS' in the name\n",
    "    if os.path.isfile(file_path) and '_TRAS' in name:\n",
    "        print(f\"Content of '{name}'\")\n",
    "        # Copy the file to the destination directory\n",
    "        shutil.copy(file_path, os.path.join(destination_directory, name))\n",
    "    else:\n",
    "        print(\"we want it\")\n"
   ]
  },
  {
   "cell_type": "code",
   "execution_count": null,
   "id": "783986d1",
   "metadata": {},
   "outputs": [],
   "source": []
  }
 ],
 "metadata": {
  "kernelspec": {
   "display_name": "Python 3 (ipykernel)",
   "language": "python",
   "name": "python3"
  },
  "language_info": {
   "codemirror_mode": {
    "name": "ipython",
    "version": 3
   },
   "file_extension": ".py",
   "mimetype": "text/x-python",
   "name": "python",
   "nbconvert_exporter": "python",
   "pygments_lexer": "ipython3",
   "version": "3.12.2"
  }
 },
 "nbformat": 4,
 "nbformat_minor": 5
}
